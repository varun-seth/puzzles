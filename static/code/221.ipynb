{
 "cells": [
  {
   "cell_type": "code",
   "execution_count": 8,
   "metadata": {},
   "outputs": [],
   "source": [
    "strategy = {} # key: state (boolean array of striked numbers), value: the number to strike next\n",
    "winnable = {} # key: (state, target number), value: whether it is possible to win for the current player from this state."
   ]
  },
  {
   "cell_type": "code",
   "execution_count": 9,
   "metadata": {},
   "outputs": [
    {
     "name": "stdout",
     "output_type": "stream",
     "text": [
      "| 1 | 1 | True\n",
      "| 2 | 2 | True\n",
      "| 3 | 1 | True\n",
      "| 4 | 2 | True\n",
      "| 5 | 4 | True\n",
      "| 6 | 5 | True\n",
      "| 7 | 1 | True\n",
      "| 8 | 2 | True\n",
      "| 9 | 2 | True\n",
      "| 10 | 4 | True\n"
     ]
    }
   ],
   "source": [
    "def strike(state, target):\n",
    "    return tuple(state[i] or (target % (i + 1) == 0) for i in range(len(state)))\n",
    "\n",
    "def play(state):\n",
    "    # make the best move given this state.\n",
    "    if state in strategy:\n",
    "        # memoization is for speed.\n",
    "        target = strategy[state]\n",
    "        return target\n",
    "    else:\n",
    "        # find the possible targets\n",
    "        targets = [i + 1 for i in range(len(state)) if not state[i]]\n",
    "        assert len(targets) >= 1, \"Game is already over\"\n",
    "\n",
    "        for target in targets: # investigate each target.\n",
    "            state_next = strike(state, target)\n",
    "            if sum(state_next) == len(state):\n",
    "                # Game got completed\n",
    "                strategy[state] = target\n",
    "                winnable[(state, target)] = True\n",
    "                return target\n",
    "            else:\n",
    "                target_next = play(state_next)\n",
    "\n",
    "                winnable[(state, target)] = not winnable[(state_next, target_next)]\n",
    "                if winnable[(state, target)]:\n",
    "                    strategy[state] = target\n",
    "                    return target\n",
    "        # the loop went on, but nothing was won.\n",
    "        # return the losing state\n",
    "        strategy[state] = targets[0] # anything is fine for the demo\n",
    "        winnable[(state, target)] = False\n",
    "        return target\n",
    "\n",
    "def simulate():\n",
    "    for n in range(1, 10 + 1):\n",
    "        state = tuple(False for i in range(n))\n",
    "        targets = []\n",
    "        for _ in range(n):\n",
    "            target = play(state)\n",
    "            targets.append(target)\n",
    "            state = strike(state, target)\n",
    "\n",
    "            if sum(state) == len(state):\n",
    "                break\n",
    "        \n",
    "        state = tuple(False for i in range(n))\n",
    "        first_move = strategy[state]\n",
    "        player_1_wins = winnable[(state, first_move)]\n",
    "        print(f\"| {n} | {targets[0]} | {player_1_wins}\")\n",
    "\n",
    "simulate()"
   ]
  },
  {
   "cell_type": "code",
   "execution_count": null,
   "metadata": {},
   "outputs": [],
   "source": []
  }
 ],
 "metadata": {
  "kernelspec": {
   "display_name": "Python 3",
   "language": "python",
   "name": "python3"
  },
  "language_info": {
   "codemirror_mode": {
    "name": "ipython",
    "version": 3
   },
   "file_extension": ".py",
   "mimetype": "text/x-python",
   "name": "python",
   "nbconvert_exporter": "python",
   "pygments_lexer": "ipython3",
   "version": "3.11.2"
  },
  "orig_nbformat": 4
 },
 "nbformat": 4,
 "nbformat_minor": 2
}
